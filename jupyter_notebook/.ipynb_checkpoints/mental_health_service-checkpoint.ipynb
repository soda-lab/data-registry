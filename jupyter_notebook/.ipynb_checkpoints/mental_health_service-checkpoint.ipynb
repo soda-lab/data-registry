{
 "cells": [
  {
   "cell_type": "markdown",
   "metadata": {},
   "source": [
    "# Insight: Mental health service\n",
    "\n",
    "- This jupyter notebook includes process of generating insights which are related to Mental health service.\n",
    "- The insight generating process is divided into sub-tasks as shown below.\n",
    "    - 1. Download data\n",
    "    - 2. Explore data\n",
    "    - 3. Extract/analyse data\n",
    "    - 4. Visualize data"
   ]
  },
  {
   "cell_type": "markdown",
   "metadata": {},
   "source": [
    "## Step 1 : Download data\n",
    "\n",
    "- All analysed data are uploaded in git repository (https://github.com/soda-lab/data-registry)\n",
    "- Using python to download the dataset"
   ]
  },
  {
   "cell_type": "code",
   "execution_count": 1,
   "metadata": {},
   "outputs": [],
   "source": [
    "import pandas as pd\n",
    "\n",
    "repository = 'https://github.com/soda-lab/data-registry/'\n",
    "path = 'blob/main/original_data/'\n",
    "dataset = 'Community-mental-health-care-services-tables-2017-18.xlsx'\n",
    "raw = '?raw=ture'\n",
    "\n",
    "url = repository + path + dataset + raw\n",
    "xls = pd.ExcelFile(url)"
   ]
  },
  {
   "cell_type": "markdown",
   "metadata": {},
   "source": [
    "## Step 2: Explore data"
   ]
  },
  {
   "cell_type": "code",
   "execution_count": 43,
   "metadata": {},
   "outputs": [],
   "source": [
    "# read Table CMHC.1 in the dataset\n",
    "\n",
    "df1 = pd.read_excel(xls, sheet_name = 'Table CMHC.1', skiprows=4, header=0)\n",
    "df = df1.dropna(subset=['NSW7'], how='all') # drop rows where it contains meaningless values"
   ]
  },
  {
   "cell_type": "code",
   "execution_count": 46,
   "metadata": {},
   "outputs": [
    {
     "data": {
      "text/plain": [
       "Index(['Count', 'Unnamed: 1', 'NSW7', 'Vic6', 'Qld', 'WA', 'SA', 'Tas', 'ACT',\n",
       "       'NT', 'Total'],\n",
       "      dtype='object')"
      ]
     },
     "execution_count": 46,
     "metadata": {},
     "output_type": "execute_result"
    }
   ],
   "source": [
    "# print columns\n",
    "\n",
    "df.columns"
   ]
  },
  {
   "cell_type": "code",
   "execution_count": 47,
   "metadata": {},
   "outputs": [
    {
     "data": {
      "text/html": [
       "<div>\n",
       "<style scoped>\n",
       "    .dataframe tbody tr th:only-of-type {\n",
       "        vertical-align: middle;\n",
       "    }\n",
       "\n",
       "    .dataframe tbody tr th {\n",
       "        vertical-align: top;\n",
       "    }\n",
       "\n",
       "    .dataframe thead th {\n",
       "        text-align: right;\n",
       "    }\n",
       "</style>\n",
       "<table border=\"1\" class=\"dataframe\">\n",
       "  <thead>\n",
       "    <tr style=\"text-align: right;\">\n",
       "      <th></th>\n",
       "      <th>Count</th>\n",
       "      <th>Unnamed: 1</th>\n",
       "      <th>NSW7</th>\n",
       "      <th>Vic6</th>\n",
       "      <th>Qld</th>\n",
       "      <th>WA</th>\n",
       "      <th>SA</th>\n",
       "      <th>Tas</th>\n",
       "      <th>ACT</th>\n",
       "      <th>NT</th>\n",
       "      <th>Total</th>\n",
       "    </tr>\n",
       "  </thead>\n",
       "  <tbody>\n",
       "    <tr>\n",
       "      <th>0</th>\n",
       "      <td>Number</td>\n",
       "      <td>Service contacts</td>\n",
       "      <td>3.052974e+06</td>\n",
       "      <td>2.241480e+06</td>\n",
       "      <td>2.064302e+06</td>\n",
       "      <td>918080.000000</td>\n",
       "      <td>685446.000000</td>\n",
       "      <td>147862.000000</td>\n",
       "      <td>319198.000000</td>\n",
       "      <td>80034.000000</td>\n",
       "      <td>9.509376e+06</td>\n",
       "    </tr>\n",
       "    <tr>\n",
       "      <th>1</th>\n",
       "      <td>Number</td>\n",
       "      <td>Patients</td>\n",
       "      <td>1.316350e+05</td>\n",
       "      <td>7.331300e+04</td>\n",
       "      <td>1.024970e+05</td>\n",
       "      <td>60629.000000</td>\n",
       "      <td>39888.000000</td>\n",
       "      <td>9506.000000</td>\n",
       "      <td>10762.000000</td>\n",
       "      <td>7042.000000</td>\n",
       "      <td>4.352720e+05</td>\n",
       "    </tr>\n",
       "    <tr>\n",
       "      <th>2</th>\n",
       "      <td>Number</td>\n",
       "      <td>Treatment daysa</td>\n",
       "      <td>2.197840e+06</td>\n",
       "      <td>1.202086e+06</td>\n",
       "      <td>1.463401e+06</td>\n",
       "      <td>680740.000000</td>\n",
       "      <td>499413.000000</td>\n",
       "      <td>111858.000000</td>\n",
       "      <td>183180.000000</td>\n",
       "      <td>64018.000000</td>\n",
       "      <td>6.402536e+06</td>\n",
       "    </tr>\n",
       "    <tr>\n",
       "      <th>3</th>\n",
       "      <td>Number</td>\n",
       "      <td>Average service contacts per patient</td>\n",
       "      <td>2.319272e+01</td>\n",
       "      <td>3.057411e+01</td>\n",
       "      <td>2.014012e+01</td>\n",
       "      <td>15.142589</td>\n",
       "      <td>17.184266</td>\n",
       "      <td>15.554597</td>\n",
       "      <td>29.659729</td>\n",
       "      <td>11.365237</td>\n",
       "      <td>2.184697e+01</td>\n",
       "    </tr>\n",
       "    <tr>\n",
       "      <th>4</th>\n",
       "      <td>Number</td>\n",
       "      <td>Average treatment days per patient</td>\n",
       "      <td>1.669647e+01</td>\n",
       "      <td>1.639663e+01</td>\n",
       "      <td>1.427750e+01</td>\n",
       "      <td>11.227960</td>\n",
       "      <td>12.520382</td>\n",
       "      <td>11.767094</td>\n",
       "      <td>17.021000</td>\n",
       "      <td>9.090883</td>\n",
       "      <td>1.470928e+01</td>\n",
       "    </tr>\n",
       "    <tr>\n",
       "      <th>6</th>\n",
       "      <td>Rateb(per 1,000 population)</td>\n",
       "      <td>Service contacts</td>\n",
       "      <td>3.857167e+02</td>\n",
       "      <td>3.510074e+02</td>\n",
       "      <td>4.157680e+02</td>\n",
       "      <td>355.188551</td>\n",
       "      <td>396.657973</td>\n",
       "      <td>281.815288</td>\n",
       "      <td>767.457852</td>\n",
       "      <td>324.384135</td>\n",
       "      <td>3.838960e+02</td>\n",
       "    </tr>\n",
       "    <tr>\n",
       "      <th>7</th>\n",
       "      <td>Rateb(per 1,000 population)</td>\n",
       "      <td>Patients</td>\n",
       "      <td>1.663094e+01</td>\n",
       "      <td>1.148054e+01</td>\n",
       "      <td>2.064377e+01</td>\n",
       "      <td>23.456264</td>\n",
       "      <td>23.082625</td>\n",
       "      <td>18.117813</td>\n",
       "      <td>25.875417</td>\n",
       "      <td>28.541783</td>\n",
       "      <td>1.757204e+01</td>\n",
       "    </tr>\n",
       "  </tbody>\n",
       "</table>\n",
       "</div>"
      ],
      "text/plain": [
       "                         Count                            Unnamed: 1  \\\n",
       "0                       Number                      Service contacts   \n",
       "1                       Number                              Patients   \n",
       "2                       Number                       Treatment daysa   \n",
       "3                       Number  Average service contacts per patient   \n",
       "4                       Number    Average treatment days per patient   \n",
       "6  Rateb(per 1,000 population)                      Service contacts   \n",
       "7  Rateb(per 1,000 population)                              Patients   \n",
       "\n",
       "           NSW7          Vic6           Qld             WA             SA  \\\n",
       "0  3.052974e+06  2.241480e+06  2.064302e+06  918080.000000  685446.000000   \n",
       "1  1.316350e+05  7.331300e+04  1.024970e+05   60629.000000   39888.000000   \n",
       "2  2.197840e+06  1.202086e+06  1.463401e+06  680740.000000  499413.000000   \n",
       "3  2.319272e+01  3.057411e+01  2.014012e+01      15.142589      17.184266   \n",
       "4  1.669647e+01  1.639663e+01  1.427750e+01      11.227960      12.520382   \n",
       "6  3.857167e+02  3.510074e+02  4.157680e+02     355.188551     396.657973   \n",
       "7  1.663094e+01  1.148054e+01  2.064377e+01      23.456264      23.082625   \n",
       "\n",
       "             Tas            ACT            NT         Total  \n",
       "0  147862.000000  319198.000000  80034.000000  9.509376e+06  \n",
       "1    9506.000000   10762.000000   7042.000000  4.352720e+05  \n",
       "2  111858.000000  183180.000000  64018.000000  6.402536e+06  \n",
       "3      15.554597      29.659729     11.365237  2.184697e+01  \n",
       "4      11.767094      17.021000      9.090883  1.470928e+01  \n",
       "6     281.815288     767.457852    324.384135  3.838960e+02  \n",
       "7      18.117813      25.875417     28.541783  1.757204e+01  "
      ]
     },
     "execution_count": 47,
     "metadata": {},
     "output_type": "execute_result"
    }
   ],
   "source": [
    "df"
   ]
  },
  {
   "cell_type": "markdown",
   "metadata": {},
   "source": [
    "## Step3: Extract/analyse data\n",
    "\n",
    "- Extract data \n",
    "    - rows ( Count: Rateb(per 1,000 population), Unnamed: 1\t: Service Contacts)"
   ]
  },
  {
   "cell_type": "code",
   "execution_count": 79,
   "metadata": {},
   "outputs": [],
   "source": [
    "# extract data\n",
    "\n",
    "extracted_df = pd.DataFrame(columns=['Count'])\n",
    "\n",
    "for index, row in df.iterrows():\n",
    "    if row['Count'] == 'Rateb(per 1,000 population)':\n",
    "        if row['Unnamed: 1'] != 'Patients':\n",
    "            extracted_df = extracted_df.append(row) "
   ]
  },
  {
   "cell_type": "code",
   "execution_count": 80,
   "metadata": {},
   "outputs": [
    {
     "data": {
      "text/html": [
       "<div>\n",
       "<style scoped>\n",
       "    .dataframe tbody tr th:only-of-type {\n",
       "        vertical-align: middle;\n",
       "    }\n",
       "\n",
       "    .dataframe tbody tr th {\n",
       "        vertical-align: top;\n",
       "    }\n",
       "\n",
       "    .dataframe thead th {\n",
       "        text-align: right;\n",
       "    }\n",
       "</style>\n",
       "<table border=\"1\" class=\"dataframe\">\n",
       "  <thead>\n",
       "    <tr style=\"text-align: right;\">\n",
       "      <th></th>\n",
       "      <th>Count</th>\n",
       "      <th>ACT</th>\n",
       "      <th>NSW</th>\n",
       "      <th>NT</th>\n",
       "      <th>QLD</th>\n",
       "      <th>SA</th>\n",
       "      <th>TAS</th>\n",
       "      <th>Total</th>\n",
       "      <th>VIC</th>\n",
       "      <th>WA</th>\n",
       "    </tr>\n",
       "  </thead>\n",
       "  <tbody>\n",
       "    <tr>\n",
       "      <th>6</th>\n",
       "      <td>Rateb(per 1,000 population)</td>\n",
       "      <td>767.457852</td>\n",
       "      <td>385.716663</td>\n",
       "      <td>324.384135</td>\n",
       "      <td>415.768032</td>\n",
       "      <td>396.657973</td>\n",
       "      <td>281.815288</td>\n",
       "      <td>383.895996</td>\n",
       "      <td>351.00736</td>\n",
       "      <td>355.188551</td>\n",
       "    </tr>\n",
       "  </tbody>\n",
       "</table>\n",
       "</div>"
      ],
      "text/plain": [
       "                         Count         ACT         NSW          NT  \\\n",
       "6  Rateb(per 1,000 population)  767.457852  385.716663  324.384135   \n",
       "\n",
       "          QLD          SA         TAS       Total        VIC          WA  \n",
       "6  415.768032  396.657973  281.815288  383.895996  351.00736  355.188551  "
      ]
     },
     "execution_count": 80,
     "metadata": {},
     "output_type": "execute_result"
    }
   ],
   "source": [
    "extracted_df.drop(columns= ['Unnamed: 1'], inplace=True)\n",
    "extracted_df.rename(columns={\"NSW7\": \"NSW\", \"Qld\": \"QLD\", \"Tas\": \"TAS\", \"Vic6\":\"VIC\"}, inplace=True) #rename columns\n",
    "extracted_df\n"
   ]
  },
  {
   "cell_type": "markdown",
   "metadata": {},
   "source": [
    "## Step4: Visualize data"
   ]
  },
  {
   "cell_type": "code",
   "execution_count": 130,
   "metadata": {},
   "outputs": [
    {
     "data": {
      "image/png": "[encoded data removed]",
      "text/plain": [
       "<Figure size 1440x792 with 1 Axes>"
      ]
     },
     "metadata": {},
     "output_type": "display_data"
    }
   ],
   "source": [
    "import matplotlib.pyplot as plt\n",
    "%matplotlib inline\n",
    "plt.style.use('ggplot')\n",
    "\n",
    "x = ['NSW', 'VIC', 'QLD', 'WA', 'SA', 'TAS', 'ACT', 'NT']\n",
    "rate = list(extracted_df[['NSW', 'VIC', 'QLD', 'WA', 'SA', 'TAS', 'ACT', 'NT']].iloc[0])\n",
    "\n",
    "x_pos = [i for i, _ in enumerate(x)]\n",
    "plt.figure(figsize=(20,11))\n",
    "plt.bar(x_pos, rate, color='orange')\n",
    "plt.xlabel(\"State and territory\", fontsize=18)\n",
    "plt.ylabel(\"per 1,000 population\", fontsize=18)\n",
    "plt.title(\"Mental health care service contacts rate between 2017 and 2018\", fontsize=28)\n",
    "\n",
    "for index, value in enumerate(rate):\n",
    "    plt.text(index - 0.24, value - 30, str(round(value, 2)), fontsize=18)\n",
    "\n",
    "plt.xticks(x_pos, x, fontsize=16)\n",
    "plt.show()"
   ]
  },
  {
   "cell_type": "code",
   "execution_count": null,
   "metadata": {},
   "outputs": [],
   "source": []
  }
 ],
 "metadata": {
  "kernelspec": {
   "display_name": "soda_venv",
   "language": "python",
   "name": "soda_venv"
  },
  "language_info": {
   "codemirror_mode": {
    "name": "ipython",
    "version": 3
   },
   "file_extension": ".py",
   "mimetype": "text/x-python",
   "name": "python",
   "nbconvert_exporter": "python",
   "pygments_lexer": "ipython3",
   "version": "3.7.9"
  },
  "toc": {
   "base_numbering": 1,
   "nav_menu": {},
   "number_sections": true,
   "sideBar": true,
   "skip_h1_title": false,
   "title_cell": "Table of Contents",
   "title_sidebar": "Contents",
   "toc_cell": false,
   "toc_position": {},
   "toc_section_display": true,
   "toc_window_display": true
  }
 },
 "nbformat": 4,
 "nbformat_minor": 4
}
