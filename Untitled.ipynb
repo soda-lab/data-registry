{
 "cells": [
  {
   "cell_type": "code",
   "execution_count": 1,
   "metadata": {},
   "outputs": [
    {
     "name": "stdout",
     "output_type": "stream",
     "text": [
      "{'dataset': [{'key': 'researchgrapgh.org/abs/1410.02014-19/Population-and-People-ASGS-and-LGA', 'local_id': '1410.02014-19/Population-and-People-ASGS-and-LGA', 'source': 'abs.gov.au', 'last_updated': '2020-07-28', 'subjects': ['population'], 'asgs': ['SA2', 'SA3', 'SA4', 'state and territory'], 'title': '1410.0 - Data by Region, 2014-19 Population and People, ASGS and LGA, 2011, 2014-2019', 'publication_year': 2020, 'url': 'https://www.abs.gov.au/AUSSTATS/abs@.nsf/DetailsPage/1410.02014-19?OpenDocument'}, {'key': 'researchgrapgh.org/abs/1410.02014-19/Education-and-Employment-ASGS-and-LGA', 'local_id': '1410.02014-19/Education-and-Employment-ASGS-and-LGA', 'source': 'abs.gov.au', 'last_updated': '2020-07-28', 'subjects': ['education', 'employment'], 'asgs': ['SA2', 'SA3', 'SA4', 'state and territory'], 'title': '1410.0 - Data by Region, 2014-19 Education and Employment, ASGS and LGA, 2011, 2014-2019', 'publication_year': 2020, 'url': 'https://www.abs.gov.au/AUSSTATS/abs@.nsf/DetailsPage/1410.02014-19?OpenDocument'}, {'key': 'researchgrapgh.org/abs/1410.02014-19/Health-and-Disability-ASGS-and-LGA', 'local_id': '1410.02014-19/Health-and-Disability-ASGS-and-LGA', 'source': 'abs.gov.au', 'last_updated': '2020-07-28', 'subjects': ['health', 'disability'], 'asgs': ['SA2', 'SA3', 'SA4', 'state and territory'], 'title': '1410.0 - Data by Region, 2014-19 Health and Disability, ASGS and LGA, 2011, 2014-2018', 'publication_year': 2020, 'url': 'https://www.abs.gov.au/AUSSTATS/abs@.nsf/DetailsPage/1410.02014-19?OpenDocument'}, {'key': 'researchgrapgh.org/abs/Commuting-Distance-by-Personal-Characteristics', 'local_id': '2071.0.55.0012016/Commuting-Distance-by-Personal-Characteristics', 'source': 'abs.gov.au', 'last_updated': '2018-05-22', 'subjects': ['commuting distance'], 'asgs': ['AUST', 'STE', 'SA4', 'GCCSA'], 'title': '2071.0.55.001 - Census of Population and Housing: Commuting to Work - More Stories from the Census, Commuting Distance by Personal Characteristics', 'publisher': 'Australian Bureau of Statistics', 'publication_year': 2016, 'url': 'https://www.abs.gov.au/AUSSTATS/abs@.nsf/DetailsPage/2071.0.55.0012016?OpenDocument'}, {'key': 'researchgrapgh.org/abs/national-survey-mental-health-and-wellbeing-summary-results-2007', 'local_id': 'national-survey-mental-health-and-wellbeing-summary-results-2007', 'source': 'abs.gov.au', 'last_updated': '2008-10-23', 'subjects': ['mental health', 'lifetime', 'disorders'], 'title': 'National Survey of Mental Health and Wellbeing- summary of results, 2007', 'publisher': 'Australian Bureau of Statistics', 'publication_year': 2008, 'url': 'https://www.abs.gov.au/statistics/health/mental-health/national-survey-mental-health-and-wellbeing-summary-results/2007'}, {'key': 'researchgrapgh.org/aihw/10.25816/5ec5be4ced179/Data-tables-Employment-supplementary-data-tables', 'local_id': '10.25816/5ec5be4ced179/Data-tables-Employment-supplementary-data-tables', 'source': 'aihw.gov.au', 'last_updated': '2020-10-02', 'subjects': ['disability', 'labour force'], 'title': 'People with disability in Australia, Data tables: Employment supplementary data tables', 'publisher': 'Australian Institute of Health and Welfare', 'publication_year': 2020, 'url': 'https://www.aihw.gov.au/reports/disability/people-with-disability-in-australia/data'}, {'key': 'researchgrapgh.org/aihw/mental-health-services/mental-health-services-in-australia/State-and-territory-community-mental-health-care', 'local_id': 'mental-health-services/mental-health-services-in-australia/State-and-territory-community-mental-health-care', 'source': 'aihw.gov.au', 'last_updated': '2021-01-29', 'subjects': ['mental health', 'community mental health care service contact'], 'title': 'Mental health services in Australia, State and territory community mental health care 2018-19', 'table': 'Table CMHC.1', 'publisher': 'Australian Institute of Health and Welfare', 'publication_year': 2020, 'url': 'https://www.aihw.gov.au/reports/mental-health-services/mental-health-services-in-australia/data'}, {'key': 'researchgraph.org/worldbank/SL.UEM.1524.FE.NE.ZS', 'local_id': 'SL.UEM.1524.FE.NE.ZS', 'source': 'worldbank.org', 'last_updated': '2020-09-20', 'subjects': ['youth', 'employment'], 'title': 'Unemployment, youth total (% of total labor force ages 15-24) (modeled ILO estimate)', 'publication_year': 2020, 'url': 'https://data.worldbank.org/indicator/SL.UEM.1524.ZS', 'license': 'https://creativecommons.org/licenses/by/4.0/'}]}\n"
     ]
    }
   ],
   "source": [
    "import json\n",
    "\n",
    "with open('metadata.json') as json_file:\n",
    "    data = json.load(json_file)\n",
    "    print(data)"
   ]
  },
  {
   "cell_type": "code",
   "execution_count": 4,
   "metadata": {},
   "outputs": [
    {
     "data": {
      "text/plain": [
       "'researchgrapgh.org/abs/1410.02014-19/Population-and-People-ASGS-and-LGA'"
      ]
     },
     "execution_count": 4,
     "metadata": {},
     "output_type": "execute_result"
    }
   ],
   "source": [
    "data['dataset'][0]['key']"
   ]
  },
  {
   "cell_type": "code",
   "execution_count": 6,
   "metadata": {},
   "outputs": [
    {
     "data": {
      "text/plain": [
       "8"
      ]
     },
     "execution_count": 6,
     "metadata": {},
     "output_type": "execute_result"
    }
   ],
   "source": [
    "len(data['dataset'])"
   ]
  },
  {
   "cell_type": "code",
   "execution_count": null,
   "metadata": {},
   "outputs": [],
   "source": []
  }
 ],
 "metadata": {
  "kernelspec": {
   "display_name": "soda_venv",
   "language": "python",
   "name": "soda_venv"
  },
  "language_info": {
   "codemirror_mode": {
    "name": "ipython",
    "version": 3
   },
   "file_extension": ".py",
   "mimetype": "text/x-python",
   "name": "python",
   "nbconvert_exporter": "python",
   "pygments_lexer": "ipython3",
   "version": "3.7.9"
  },
  "toc": {
   "base_numbering": 1,
   "nav_menu": {},
   "number_sections": true,
   "sideBar": true,
   "skip_h1_title": false,
   "title_cell": "Table of Contents",
   "title_sidebar": "Contents",
   "toc_cell": false,
   "toc_position": {},
   "toc_section_display": true,
   "toc_window_display": true
  }
 },
 "nbformat": 4,
 "nbformat_minor": 4
}
